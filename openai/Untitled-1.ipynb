{
 "cells": [
  {
   "cell_type": "code",
   "execution_count": 1,
   "metadata": {},
   "outputs": [],
   "source": [
    "import pickle\n",
    "import os\n",
    "import numpy as np\n",
    "from sklearn.metrics.pairwise import cosine_similarity"
   ]
  },
  {
   "cell_type": "code",
   "execution_count": 3,
   "metadata": {},
   "outputs": [
    {
     "ename": "FileNotFoundError",
     "evalue": "[Errno 2] No such file or directory: '../topic_embeddings/'",
     "output_type": "error",
     "traceback": [
      "\u001b[0;31m---------------------------------------------------------------------------\u001b[0m",
      "\u001b[0;31mFileNotFoundError\u001b[0m                         Traceback (most recent call last)",
      "Cell \u001b[0;32mIn[3], line 2\u001b[0m\n\u001b[1;32m      1\u001b[0m path_to_pkl \u001b[39m=\u001b[39m \u001b[39m'\u001b[39m\u001b[39m../topic_embeddings/\u001b[39m\u001b[39m'\u001b[39m\n\u001b[0;32m----> 2\u001b[0m pkl_files \u001b[39m=\u001b[39m [pos_pkl \u001b[39mfor\u001b[39;00m pos_pkl \u001b[39min\u001b[39;00m os\u001b[39m.\u001b[39;49mlistdir(path_to_pkl) \u001b[39mif\u001b[39;00m pos_pkl\u001b[39m.\u001b[39mendswith(\u001b[39m'\u001b[39m\u001b[39m.pkl\u001b[39m\u001b[39m'\u001b[39m)]\n\u001b[1;32m      3\u001b[0m topic_embed \u001b[39m=\u001b[39m {}\n\u001b[1;32m      4\u001b[0m \u001b[39mfor\u001b[39;00m index, topic_name \u001b[39min\u001b[39;00m \u001b[39menumerate\u001b[39m(pkl_files):\n",
      "\u001b[0;31mFileNotFoundError\u001b[0m: [Errno 2] No such file or directory: '../topic_embeddings/'"
     ]
    }
   ],
   "source": [
    "path_to_pkl = './/topic_embeddings/'\n",
    "pkl_files = [pos_pkl for pos_pkl in os.listdir(path_to_pkl) if pos_pkl.endswith('.pkl')]\n",
    "topic_embed = {}\n",
    "for index, topic_name in enumerate(pkl_files):\n",
    "    with open(os.path.join(path_to_pkl, topic_name), 'rb') as pkl_file:\n",
    "        output = np.array(pickle.load(pkl_file))\n",
    "        name = topic_name[:-4]\n",
    "        topic_embed[name] = output\n",
    "print(topic_embed.keys())"
   ]
  },
  {
   "cell_type": "code",
   "execution_count": null,
   "metadata": {},
   "outputs": [],
   "source": []
  },
  {
   "cell_type": "code",
   "execution_count": null,
   "metadata": {},
   "outputs": [],
   "source": []
  },
  {
   "cell_type": "code",
   "execution_count": null,
   "metadata": {},
   "outputs": [],
   "source": []
  }
 ],
 "metadata": {
  "kernelspec": {
   "display_name": "andro_env",
   "language": "python",
   "name": "python3"
  },
  "language_info": {
   "codemirror_mode": {
    "name": "ipython",
    "version": 3
   },
   "file_extension": ".py",
   "mimetype": "text/x-python",
   "name": "python",
   "nbconvert_exporter": "python",
   "pygments_lexer": "ipython3",
   "version": "3.9.2"
  },
  "orig_nbformat": 4,
  "vscode": {
   "interpreter": {
    "hash": "dfc65663df7ce2057922103f880c240f9617af98d8719ad52d848b7c5495ce5a"
   }
  }
 },
 "nbformat": 4,
 "nbformat_minor": 2
}
