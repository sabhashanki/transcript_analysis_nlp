{
 "cells": [
  {
   "cell_type": "code",
   "execution_count": 3,
   "metadata": {},
   "outputs": [
    {
     "name": "stderr",
     "output_type": "stream",
     "text": [
      "/usr/local/lib/python3.9/dist-packages/tqdm/auto.py:22: TqdmWarning: IProgress not found. Please update jupyter and ipywidgets. See https://ipywidgets.readthedocs.io/en/stable/user_install.html\n",
      "  from .autonotebook import tqdm as notebook_tqdm\n",
      "/usr/local/lib/python3.9/dist-packages/torch/cuda/__init__.py:88: UserWarning: CUDA initialization: CUDA unknown error - this may be due to an incorrectly set up environment, e.g. changing env variable CUDA_VISIBLE_DEVICES after program start. Setting the available devices to be zero. (Triggered internally at ../c10/cuda/CUDAFunctions.cpp:109.)\n",
      "  return torch._C._cuda_getDeviceCount() > 0\n"
     ]
    }
   ],
   "source": [
    "import spacy\n",
    "nlp = spacy.load('en_core_web_md')"
   ]
  },
  {
   "cell_type": "code",
   "execution_count": 95,
   "metadata": {},
   "outputs": [],
   "source": [
    "text = \"Hulkay.com is India's own social media platform. This is a conversation about towards a new India. A new India where food security is going to be very important. We look at how India has India has 17.78% population of the whole world and only 2.3% land. The per unit pressure on Indian soil is five to six times more as compared to Earth average. We will have to invest in R and DFO In Punjab and Ryan soil, when green devolution started it was 0.5%, but today it is zero point 25%. In Gangtik West Bengal to Bihar to Jharkhand to which is the bowel, there is 50% precipitation as on date 50% less. Agriculture must receive deprived everything can weigh, but not agriculture. The nutritional imbalances of rampant so LPK imbalance after micronutrients secondary nutrients they are indeed very serious. This Green Revolution has evolved into a rainbow revolution One of the consequences of the Green revolution has been this cycle of rice and wheat which has come through in the granary or the northwestern part of India. The question is what is more resilient? What is that which is less affected by the environmental fluctuations and weather? And we see the simple There are opportunities to invest and harness the potential. There are also questions. You have to look into the regions as to what is happening, how it is happening. But I'm very happy although delayed but the action is taken and taken on oil farm. India's agriculture scientists have made a great contribution to the country's development. Without the support of agriculture scientists, India could not have become independent, he says. Indian holdings were 2.28 ha average holding size in 70 71 today it is 1.1 almost 1 ha is half and number of holdings have doubled. If that is the kind of situation why you are thinking so in tomato when there is much more production it goes to 55 kg and In 2000 India was having 64% of the food requirements by the food. By 2025 you are estimated to be fifty seven k and by 2050 you are. estimated to have about 38K. Theoretically it is possible, and this is doable at the same time. Bashuddhar Kutambukam: Is there no barrier to gene flow across plant and animal and microbial kingdom? He says CRISPR technology is the technology which is going to change the spectrum of R and D efforts.\""
   ]
  },
  {
   "cell_type": "code",
   "execution_count": 96,
   "metadata": {},
   "outputs": [],
   "source": [
    "doc = nlp(text)"
   ]
  },
  {
   "cell_type": "code",
   "execution_count": null,
   "metadata": {},
   "outputs": [],
   "source": [
    "for token in doc:\n",
    "    print(token.text, token.lemma_, token.pos_, token.tag_, token.dep_,\n",
    "            token.shape_, token.is_alpha, token.is_stop)"
   ]
  },
  {
   "cell_type": "code",
   "execution_count": 70,
   "metadata": {},
   "outputs": [
    {
     "data": {
      "text/plain": [
       "True"
      ]
     },
     "execution_count": 70,
     "metadata": {},
     "output_type": "execute_result"
    }
   ],
   "source": [
    "ted = \"214\"\n",
    "ted.isdigit()"
   ]
  },
  {
   "cell_type": "code",
   "execution_count": null,
   "metadata": {},
   "outputs": [],
   "source": [
    "for noun_chunk in doc.noun_chunks:\n",
    "    if not all([character.isdigit() for character in str(noun_chunk.text)]):\n",
    "       print(f'character - {noun_chunk}')\n",
    "       continue\n",
    "      #  print(c)\n",
    "    else:\n",
    "       print(f'no character - {noun_chunk}')\n",
    "\n",
    "      #  print(c)\n",
    "\n",
    "       \n",
    "    #     chunk = str(chunk).strip()\n",
    "    #     print(chunk)\n",
    "    # if chunk.isalpha():\n",
    "    #     print(f\"filtering {noun_chunk} as it doesn't contain any numbers\")\n"
   ]
  },
  {
   "cell_type": "code",
   "execution_count": 9,
   "metadata": {},
   "outputs": [
    {
     "data": {
      "text/plain": [
       "False"
      ]
     },
     "execution_count": 9,
     "metadata": {},
     "output_type": "execute_result"
    }
   ],
   "source": [
    "a = 'shanke34sh'\n",
    "a.isalpha()"
   ]
  },
  {
   "attachments": {},
   "cell_type": "markdown",
   "metadata": {},
   "source": [
    "### Hashtag Module"
   ]
  },
  {
   "cell_type": "code",
   "execution_count": 10,
   "metadata": {},
   "outputs": [],
   "source": [
    "texts = [\"the president of india\", \"shankesh\", \"indendence day celebration\"]"
   ]
  },
  {
   "cell_type": "code",
   "execution_count": 11,
   "metadata": {},
   "outputs": [
    {
     "name": "stdout",
     "output_type": "stream",
     "text": [
      "['ThePresidentOfIndia', 'shankesh', 'IndendenceDayCelebration']\n"
     ]
    }
   ],
   "source": [
    "final = []\n",
    "for text in texts:\n",
    "    words = text.split(' ')\n",
    "    if len(words) > 2:\n",
    "        words = \"\".join([word.title() for word in words])\n",
    "        final.append(words)\n",
    "    else:\n",
    "        final.append(words[0])\n",
    "print(final)\n",
    "    "
   ]
  },
  {
   "attachments": {},
   "cell_type": "markdown",
   "metadata": {},
   "source": [
    "### Summarize Module"
   ]
  },
  {
   "cell_type": "code",
   "execution_count": 62,
   "metadata": {},
   "outputs": [],
   "source": [
    "text = \"\"\"\n",
    "\n",
    "1657550050.0-1657590900.0\n",
    "Thank you, Priyanka, for joining us today. To everybody who 10 sha256 98422 will watch this, who is watching right now and watch in the future, I would like to introduce Priyanka Kapura panelist to you. Priyanka is the vice president of research at anarak Property Consultants. And we're doing this roundtable with Priyanka as part of our Naya Door campaign, where we're looking at the development of different sectors, sectors within the Indian industry since independence, and looking at what are the major milestones that they've achieved, what are the major government regulations that have come in. And if we can do some crystal ball gazing to the future to see what the future holds, will be doing some of that as well.\n",
    "1657591590.0-1657633662.0\n",
    "So. Thanks, Bianca. Again, if you could just sort of take a look back at the past when we talked about realisticities when I was growing up, when my parents were young and looking at buying property, this is something that brought a lot of noviceness into your decision making because it was not well structured industry for a long time. If you're in a major market like in Delhi or NCR or in Mumbai, you're always worried about the underworld. They worried about cash transactions, they worried about title deeds being dubious, but not has changed since then.\n",
    "1657633716.0-1657670026.0\n",
    "So now we're seeing a lot of listed companies which are supposed to be 1845 brand name developers. We're seeing property consultants like yourself giving advice to buyers on how to go about these decisions. And if there's like a formalization of finance, we have now laws about if your property has been developed on time, doesn't meet the promised timelines, what is the right to recourse that you have as a buyer? So can you tell me what the journey has been like and what are the main reasons for change? Yeah.\n",
    "1657670048.0-1657691282.0\n",
    "Hi, Tanyang. Good afternoon to all. Well, yes, you are right in saying that there has been a lot of changes in the Indian real estate sector since the turn of the century. Today it is almost unrecognizable from what it was earlier. The Wild West story.\n",
    "1657691336.0-1657732602.0\n",
    "\n",
    "\"\"\""
   ]
  },
  {
   "cell_type": "code",
   "execution_count": 63,
   "metadata": {},
   "outputs": [
    {
     "data": {
      "text/plain": [
       "\"Thank you, Priyanka, for joining us today. To everybody who 10 sha256 98422 will watch this, who is watching right now and watch in the future, I would like to introduce Priyanka Kapura panelist to you. Priyanka is the vice president of research at anarak Property Consultants. And we're doing this roundtable with Priyanka as part of our Naya Door campaign, where we're looking at the development of different sectors, sectors within the Indian industry since independence, and looking at what are the major milestones that they've achieved, what are the major government regulations that have come in. And if we can do some crystal ball gazing to the future to see what the future holds, will be doing some of that as well.So. Thanks, Bianca. Again, if you could just sort of take a look back at the past when we talked about realisticities when I was growing up, when my parents were young and looking at buying property, this is something that brought a lot of noviceness into your decision making because it was not well structured industry for a long time. If you're in a major market like in Delhi or NCR or in Mumbai, you're always worried about the underworld. They worried about cash transactions, they worried about title deeds being dubious, but not has changed since then.So now we're seeing a lot of listed companies which are supposed to be 1845 brand name developers. We're seeing property consultants like yourself giving advice to buyers on how to go about these decisions. And if there's like a formalization of finance, we have now laws about if your property has been developed on time, doesn't meet the promised timelines, what is the right to recourse that you have as a buyer? So can you tell me what the journey has been like and what are the main reasons for change? Yeah.Hi, Tanyang. Good afternoon to all. Well, yes, you are right in saying that there has been a lot of changes in the Indian real estate sector since the turn of the century. Today it is almost unrecognizable from what it was earlier. The Wild West story.\""
      ]
     },
     "execution_count": 63,
     "metadata": {},
     "output_type": "execute_result"
    }
   ],
   "source": [
    "import re\n",
    "regex = r\"\\d+.\\d+-\\d+.\\d+\"\n",
    "result = re.sub(regex, \"\", text)\n",
    "result = result.replace(\"\\n\", \"\")\n",
    "result\n"
   ]
  },
  {
   "attachments": {},
   "cell_type": "markdown",
   "metadata": {},
   "source": [
    "### Keyword Module"
   ]
  },
  {
   "cell_type": "code",
   "execution_count": 1,
   "metadata": {},
   "outputs": [
    {
     "name": "stderr",
     "output_type": "stream",
     "text": [
      "/usr/local/lib/python3.9/dist-packages/tqdm/auto.py:22: TqdmWarning: IProgress not found. Please update jupyter and ipywidgets. See https://ipywidgets.readthedocs.io/en/stable/user_install.html\n",
      "  from .autonotebook import tqdm as notebook_tqdm\n"
     ]
    }
   ],
   "source": [
    "import spacy\n",
    "nlp = spacy.load('en_core_web_md')"
   ]
  },
  {
   "cell_type": "code",
   "execution_count": 26,
   "metadata": {},
   "outputs": [],
   "source": [
    "text = \"My name is Shankesh Raju MS and I live in Chennai: 600016. My phone number is.  9444941332. and my address is 187, Ganapathy colony, Chennai - 600016\"\n",
    "doc = nlp(text)"
   ]
  },
  {
   "cell_type": "code",
   "execution_count": 49,
   "metadata": {},
   "outputs": [],
   "source": [
    "text_list = ['shankhes','rajums123',2343,'123','58%', '     323','23233@#$#^&*(^*)', 'shanheh345564!#$#$@#%']\n"
   ]
  },
  {
   "cell_type": "code",
   "execution_count": 50,
   "metadata": {},
   "outputs": [
    {
     "name": "stdout",
     "output_type": "stream",
     "text": [
      "shankhes = False\n",
      "rajums123 = False\n",
      "2343 = True\n",
      "123 = True\n",
      "58 = True\n",
      "323 = True\n",
      "23233 = True\n",
      "shanheh345564 = False\n"
     ]
    }
   ],
   "source": [
    "for text in text_list:\n",
    "    text = str(text)\n",
    "    regex = r\"[!\\\"#\\$%&\\'\\(\\)\\*\\+,-\\./:;<=>\\?@\\[\\\\\\]\\^_`{\\|}~]\"\n",
    "    text = re.sub(regex, \"\", text)\n",
    "    text = text.strip()\n",
    "    result = text.isdigit()\n",
    "    print(f'{text} = {result}')"
   ]
  },
  {
   "cell_type": "code",
   "execution_count": 2,
   "metadata": {},
   "outputs": [
    {
     "data": {
      "text/plain": [
       "'shankhes  trahy dsfdsfjdfdf'"
      ]
     },
     "execution_count": 2,
     "metadata": {},
     "output_type": "execute_result"
    }
   ],
   "source": [
    "import re\n",
    "text = \"shankhes \\\\\\ trahy\\\\ dsfdsfj\\\\\\\\\\\\\\\\\\dfdf\"\n",
    "text.replace(\"\\\\\", '')"
   ]
  },
  {
   "cell_type": "code",
   "execution_count": 11,
   "metadata": {},
   "outputs": [
    {
     "data": {
      "text/plain": [
       "'shankhes\\rahy'"
      ]
     },
     "execution_count": 11,
     "metadata": {},
     "output_type": "execute_result"
    }
   ],
   "source": [
    "regex = r\"['\\\\']\"\n",
    "re.sub(regex, \"\", text)"
   ]
  },
  {
   "attachments": {},
   "cell_type": "markdown",
   "metadata": {},
   "source": [
    "### Divide chunks"
   ]
  },
  {
   "cell_type": "code",
   "execution_count": 1,
   "metadata": {},
   "outputs": [],
   "source": [
    "text = \"shankesh raju ms\""
   ]
  },
  {
   "cell_type": "code",
   "execution_count": 32,
   "metadata": {},
   "outputs": [],
   "source": [
    "def yield_func(text):\n",
    "    for i in text:\n",
    "        if i == 's':\n",
    "            yield(i)\n",
    "            print('final statement')\n"
   ]
  },
  {
   "cell_type": "code",
   "execution_count": 33,
   "metadata": {},
   "outputs": [],
   "source": [
    "result = yield_func(text)"
   ]
  },
  {
   "cell_type": "code",
   "execution_count": 34,
   "metadata": {},
   "outputs": [
    {
     "name": "stdout",
     "output_type": "stream",
     "text": [
      "final statement\n",
      "final statement\n",
      "final statement\n"
     ]
    },
    {
     "data": {
      "text/plain": [
       "['s', 's', 's']"
      ]
     },
     "execution_count": 34,
     "metadata": {},
     "output_type": "execute_result"
    }
   ],
   "source": [
    "[i for i in result]"
   ]
  },
  {
   "cell_type": "code",
   "execution_count": 27,
   "metadata": {},
   "outputs": [
    {
     "data": {
      "text/plain": [
       "[]"
      ]
     },
     "execution_count": 27,
     "metadata": {},
     "output_type": "execute_result"
    }
   ],
   "source": [
    "[' '.join(i) for i in result]"
   ]
  }
 ],
 "metadata": {
  "kernelspec": {
   "display_name": "Python 3",
   "language": "python",
   "name": "python3"
  },
  "language_info": {
   "codemirror_mode": {
    "name": "ipython",
    "version": 3
   },
   "file_extension": ".py",
   "mimetype": "text/x-python",
   "name": "python",
   "nbconvert_exporter": "python",
   "pygments_lexer": "ipython3",
   "version": "3.9.2"
  },
  "orig_nbformat": 4,
  "vscode": {
   "interpreter": {
    "hash": "916dbcbb3f70747c44a77c7bcd40155683ae19c65e1c03b4aa3499c5328201f1"
   }
  }
 },
 "nbformat": 4,
 "nbformat_minor": 2
}
